{
 "cells": [
  {
   "cell_type": "markdown",
   "metadata": {},
   "source": [
    "# Lab 3 - Numpy Arrays\n",
    "\n",
    "Latent Dirichlet Allocation (LDA) is a model used to represent bodies of text. It's a hierarchical, probabilitic, generative model that represents each document in a collection as a mixture of topics. Each topic is a mixture of words. \n",
    "\n",
    "For more information see:  Blei DM, Ng AY, Jordan MI. Latent dirichlet allocation. The Journal of Machine Learning Research. 2003;3:993-1022.\n",
    "\n",
    "\n",
    "Consider the following version of the LDA generative process, that records the words in\n",
    "each document as well as which topic produced which word. \n",
    "\n",
    "Run this code to create your own document corpus. Note that the generative process is stochastic, so your corpus will be different from everyone elses, and if you run the code again, you will get a different corpus."
   ]
  },
  {
   "cell_type": "code",
   "execution_count": 6,
   "metadata": {},
   "outputs": [],
   "source": [
    "import numpy as np\n",
    " \n",
    "# there are 2000 words in the corpus\n",
    "alpha = np.full (2000, .1)\n",
    " \n",
    "# there are 100 topics\n",
    "beta = np.full (100, .1)\n",
    " \n",
    "# this gets us the probabilty of each word happening in each of the 100 topics\n",
    "wordsInTopic = np.random.dirichlet (alpha, 100)\n",
    " \n",
    "# produced [doc, topic, word] gives us the number of times that the given word was\n",
    "# produced by the given topic in the given doc\n",
    "produced = np.zeros ((50, 100, 2000))\n",
    " \n",
    "# generate each doc\n",
    "for doc in range (0, 50):\n",
    "        #\n",
    "        # get the topic probabilities for this doc\n",
    "        topicsInDoc = np.random.dirichlet (beta)\n",
    "        #\n",
    "        # assign each of the 2000 words in this doc to a topic\n",
    "        wordsToTopic = np.random.multinomial (2000, topicsInDoc)\n",
    "        #\n",
    "        # and generate each of the 2000 words\n",
    "        for topic in range (0, 100):\n",
    "                produced[doc, topic] = np.random.multinomial (wordsToTopic[topic], wordsInTopic[topic])"
   ]
  },
  {
   "cell_type": "markdown",
   "metadata": {},
   "source": [
    "As described in the comments,\n",
    "```\n",
    "  produced [doc, topic, word]\n",
    "```  \n",
    "gives the number of times that the given word was produced by the given topic in the given document. You need to complete the five tasks where we have not given an answer, and then show your answers in order to get checked off:"
   ]
  },
  {
   "cell_type": "markdown",
   "metadata": {},
   "source": [
    "(1) Write a line of code that computes the number of words produced by topic 17 in\n",
    "document 18."
   ]
  },
  {
   "cell_type": "code",
   "execution_count": 35,
   "metadata": {},
   "outputs": [
    {
     "data": {
      "text/plain": [
       "0.0"
      ]
     },
     "execution_count": 35,
     "metadata": {},
     "output_type": "execute_result"
    }
   ],
   "source": [
    "produced[18,17,:].sum ()"
   ]
  },
  {
   "cell_type": "markdown",
   "metadata": {},
   "source": [
    "(2) Write a line of code that computes the number of words produced by topic 17 thru 45 in document 18."
   ]
  },
  {
   "cell_type": "code",
   "execution_count": 72,
   "metadata": {},
   "outputs": [
    {
     "data": {
      "text/plain": [
       "1112.0"
      ]
     },
     "execution_count": 72,
     "metadata": {},
     "output_type": "execute_result"
    }
   ],
   "source": [
    "produced[18,17:46,:].sum ()"
   ]
  },
  {
   "cell_type": "markdown",
   "metadata": {},
   "source": [
    "(3) Write a line of code that computes the number of words in the entire corpus."
   ]
  },
  {
   "cell_type": "code",
   "execution_count": 37,
   "metadata": {},
   "outputs": [
    {
     "data": {
      "text/plain": [
       "100000.0"
      ]
     },
     "execution_count": 37,
     "metadata": {},
     "output_type": "execute_result"
    }
   ],
   "source": [
    "produced[:,:,:].sum ()"
   ]
  },
  {
   "cell_type": "markdown",
   "metadata": {},
   "source": [
    "(4) Write a line of code that computes the number of words in the entire corpus produced by topic 17."
   ]
  },
  {
   "cell_type": "code",
   "execution_count": 47,
   "metadata": {},
   "outputs": [
    {
     "data": {
      "text/plain": [
       "597.0"
      ]
     },
     "execution_count": 47,
     "metadata": {},
     "output_type": "execute_result"
    }
   ],
   "source": [
    "produced[:,17,:].sum ()"
   ]
  },
  {
   "cell_type": "markdown",
   "metadata": {},
   "source": [
    "(5) Write a line of code that computes the number of words in the entire corpus\n",
    "produced by topic 17 or topic 23."
   ]
  },
  {
   "cell_type": "code",
   "execution_count": 42,
   "metadata": {},
   "outputs": [
    {
     "data": {
      "text/plain": [
       "1333.0"
      ]
     },
     "execution_count": 42,
     "metadata": {},
     "output_type": "execute_result"
    }
   ],
   "source": [
    "produced[:,np.array([17,23]),:].sum()"
   ]
  },
  {
   "cell_type": "markdown",
   "metadata": {},
   "source": [
    "(6) Write a line of code that computes the number of words in the entire corpus\n",
    "produced by even numbered topics."
   ]
  },
  {
   "cell_type": "code",
   "execution_count": 43,
   "metadata": {},
   "outputs": [
    {
     "data": {
      "text/plain": [
       "48724.0"
      ]
     },
     "execution_count": 43,
     "metadata": {},
     "output_type": "execute_result"
    }
   ],
   "source": [
    "produced[:,np.arange(0,100,2),:].sum()"
   ]
  },
  {
   "cell_type": "markdown",
   "metadata": {},
   "source": [
    "(7) Write a line of code that computes the number of each word produced by topic 15."
   ]
  },
  {
   "cell_type": "code",
   "execution_count": 94,
   "metadata": {},
   "outputs": [
    {
     "data": {
      "text/plain": [
       "(array([  11,   30,   36,   39,   69,   71,   74,   76,   84,   85,   88,\n",
       "         102,  109,  116,  121,  126,  130,  157,  168,  171,  172,  178,\n",
       "         182,  199,  207,  209,  227,  228,  230,  239,  240,  251,  271,\n",
       "         274,  282,  290,  295,  318,  322,  335,  336,  344,  347,  370,\n",
       "         444,  452,  457,  461,  462,  470,  488,  498,  504,  508,  518,\n",
       "         522,  527,  531,  541,  544,  555,  558,  585,  589,  596,  598,\n",
       "         605,  612,  617,  620,  623,  641,  649,  650,  659,  665,  666,\n",
       "         683,  691,  694,  701,  705,  719,  729,  731,  733,  746,  749,\n",
       "         770,  775,  784,  790,  796,  801,  808,  814,  820,  836,  840,\n",
       "         846,  882,  889,  890,  899,  900,  902,  906,  912,  925,  930,\n",
       "         950,  976,  977,  992,  998, 1007, 1015, 1027, 1028, 1041, 1043,\n",
       "        1060, 1067, 1074, 1077, 1084, 1088, 1098, 1100, 1113, 1114, 1125,\n",
       "        1127, 1136, 1137, 1140, 1156, 1169, 1173, 1177, 1209, 1211, 1212,\n",
       "        1216, 1219, 1220, 1225, 1229, 1237, 1244, 1253, 1264, 1270, 1276,\n",
       "        1283, 1284, 1287, 1296, 1300, 1308, 1313, 1319, 1326, 1330, 1343,\n",
       "        1347, 1349, 1352, 1363, 1369, 1372, 1417, 1423, 1429, 1442, 1454,\n",
       "        1467, 1471, 1484, 1486, 1500, 1515, 1516, 1519, 1525, 1536, 1538,\n",
       "        1545, 1546, 1568, 1578, 1584, 1591, 1594, 1600, 1605, 1608, 1622,\n",
       "        1634, 1637, 1656, 1659, 1665, 1666, 1683, 1690, 1691, 1694, 1695,\n",
       "        1707, 1711, 1719, 1733, 1740, 1746, 1769, 1771, 1786, 1800, 1805,\n",
       "        1833, 1846, 1849, 1850, 1861, 1863, 1870, 1877, 1899, 1910, 1912,\n",
       "        1916, 1917, 1932, 1952, 1974, 1977, 1985, 1986, 1988, 1990, 1995,\n",
       "        1999]),)"
      ]
     },
     "execution_count": 94,
     "metadata": {},
     "output_type": "execute_result"
    }
   ],
   "source": [
    "produced[:,15,:].sum(0).nonzero()"
   ]
  },
  {
   "cell_type": "markdown",
   "metadata": {},
   "source": [
    "\n",
    "(8) Write a line of code that computes the topic responsible for the most instances of each word in the corpus."
   ]
  },
  {
   "cell_type": "code",
   "execution_count": 98,
   "metadata": {},
   "outputs": [
    {
     "data": {
      "text/plain": [
       "array([41, 80,  0, ..., 11, 41, 82])"
      ]
     },
     "execution_count": 98,
     "metadata": {},
     "output_type": "execute_result"
    }
   ],
   "source": [
    "produced.sum(0).argmax(0)"
   ]
  },
  {
   "cell_type": "markdown",
   "metadata": {},
   "source": [
    "(9) Write a line of code that for each topic, computes the max number of occurrences (summed over all documents) of any word that it was responsible for."
   ]
  },
  {
   "cell_type": "code",
   "execution_count": 5,
   "metadata": {},
   "outputs": [
    {
     "data": {
      "text/plain": [
       "array([26., 27., 19., 20., 19., 16., 19.,  7., 30., 39., 24., 32., 16.,\n",
       "       22., 38., 28., 17., 64., 17., 29., 21., 22., 30., 17., 13., 21.,\n",
       "       39., 16., 24., 20., 34., 13., 25., 26., 32., 16., 57., 19., 16.,\n",
       "       32., 21., 35., 15., 15., 19., 20., 18., 11., 26., 19., 19., 21.,\n",
       "       12., 29., 54., 25., 14., 23., 49., 12., 18., 34., 31., 26., 21.,\n",
       "       21., 18., 25., 16., 27., 18., 16., 13., 17., 25., 22.,  6., 42.,\n",
       "       27., 17., 33., 18., 26., 17., 16., 24., 37., 45., 19., 38., 45.,\n",
       "       21., 26., 36., 31., 43., 19., 19., 29., 38.])"
      ]
     },
     "execution_count": 5,
     "metadata": {},
     "output_type": "execute_result"
    }
   ],
   "source": [
    "produced[:,np.arange(0,100,1),produced.sum(0).argmax(1)].sum(0)"
   ]
  }
 ],
 "metadata": {
  "kernelspec": {
   "display_name": "Python 3",
   "language": "python",
   "name": "python3"
  },
  "language_info": {
   "codemirror_mode": {
    "name": "ipython",
    "version": 3
   },
   "file_extension": ".py",
   "mimetype": "text/x-python",
   "name": "python",
   "nbconvert_exporter": "python",
   "pygments_lexer": "ipython3",
   "version": "3.6.5"
  }
 },
 "nbformat": 4,
 "nbformat_minor": 2
}
