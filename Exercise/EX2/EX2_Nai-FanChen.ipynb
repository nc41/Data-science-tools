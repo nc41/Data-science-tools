{
 "cells": [
  {
   "cell_type": "code",
   "execution_count": 1,
   "metadata": {},
   "outputs": [],
   "source": [
    "import numpy as np\n",
    "import math\n",
    "\n",
    "# Implement a gradient descent algorithm to find the minimum of this function.\n",
    "# Your algorithm should start with a learning rate of 1, and then implement the \"bold driver\" heuristic.\n",
    "# That is, if the value of the objective function increases in an iteration, then you half the learning rate.\n",
    "# If it decreases, multiply the learning rate by 1.1.\n",
    "#\n",
    "# The algorithm should be encapsulated within a procedure gd_optimize (a), where a is a NumPy array with two entries (the starting x and starting y).\n",
    "#\n",
    "# At the end of each iteration, your code should print out the value of the objective function.\n",
    "# When the change in the objective function is less than 10e-20, the code should print out the current value for x and y and then exit.\n",
    "#\n",
    "\n",
    "# the functions to calculate gradient.\n",
    "\n",
    "\n",
    "def dx(x, y):\n",
    "    constCos = math.cos(x + y)\n",
    "    return constCos + 2 * (x - y) - 1.5\n",
    "\n",
    "\n",
    "def dy(x, y):\n",
    "    constCos = math.cos(x + y)\n",
    "    return constCos - 2 * (x - y) + 2.5\n",
    "\n",
    "\n",
    "def dxdy(x, y):\n",
    "    return -math.sin(x + y) - 2\n",
    "\n",
    "\n",
    "def secondDerivative(x, y):\n",
    "    return -math.sin(x + y) + 2\n",
    "\n",
    "# ---------------------------------------------\n",
    "def f(x, y):\n",
    "    return math.sin(x + y) + (x - y) ** 2 - 1.5 * x + 2.5 * y + 1"
   ]
  },
  {
   "cell_type": "code",
   "execution_count": 2,
   "metadata": {},
   "outputs": [],
   "source": [
    "def gd_optimize(arr):\n",
    "    x, y = arr[0], arr[1]\n",
    "    cur = f(x, y)\n",
    "    learning_rate = 1.0\n",
    "\n",
    "    print(cur)\n",
    "    e = float('inf')\n",
    "\n",
    "    while e > 10e-20:\n",
    "\n",
    "        # constCos = math.cos(x + y)\n",
    "        Nx = x - learning_rate * (math.cos(x + y) + 2 * (x - y) - 1.5)\n",
    "        y = y - learning_rate * (math.cos(x + y) - 2 * (x - y) + 2.5)\n",
    "        x = Nx\n",
    "        pre = cur\n",
    "        cur = f(x, y)\n",
    "        e = abs(cur - pre)\n",
    "        # print(x, y)\n",
    "        print(cur)\n",
    "\n",
    "        if pre < cur:\n",
    "            learning_rate *= 0.5\n",
    "        else:\n",
    "            learning_rate *= 1.1\n",
    "    # print(x, y)\n",
    "    return np.array([x, y])\n",
    "\n",
    "\n",
    "def hessianMatrix(x, y):\n",
    "    return np.array([[secondDerivative(x, y), dxdy(x, y)], [dxdy(x, y), secondDerivative(x, y)]])\n",
    "\n",
    "\n",
    "def nm_optimize(arr):\n",
    "    x, y = arr\n",
    "    cur = f(x, y)\n",
    "    print(cur)\n",
    "    e = float('inf')\n",
    "\n",
    "    while e > 10e-20:\n",
    "        darr = np.array([dx(x, y), dy(x, y)])\n",
    "        gradient = np.dot(np.linalg.inv(hessianMatrix(x, y)), darr)\n",
    "        # print(x, y, np.linalg.inv(hessianMatrix(x, y)), darr, gradient)\n",
    "        x -= gradient[0]\n",
    "        y -= gradient[1]\n",
    "        pre = cur\n",
    "        cur = f(x, y)\n",
    "        print(cur)\n",
    "        e = abs(cur - pre)\n",
    "\n",
    "    return np.array([x, y])\n"
   ]
  },
  {
   "cell_type": "code",
   "execution_count": 6,
   "metadata": {},
   "outputs": [
    {
     "name": "stdout",
     "output_type": "stream",
     "text": [
      "-1.4920390859672263\n",
      "-1.3175387318156826\n",
      "-1.503265873161276\n",
      "-1.3933929562543743\n",
      "-1.9076321773193428\n",
      "-1.912900015321147\n",
      "-1.9131807504289906\n",
      "-1.9132152450977031\n",
      "-1.91322073144749\n",
      "-1.913221746385557\n",
      "-1.9132218772859027\n",
      "-1.9132215459436885\n",
      "-1.9132229477178324\n",
      "-1.913222954748297\n",
      "-1.9132229549605144\n",
      "-1.9132229549773028\n",
      "-1.9132229549798279\n",
      "-1.913222954980399\n",
      "-1.913222954980522\n",
      "-1.9132229549804265\n",
      "-1.913222954981035\n",
      "-1.9132229549810367\n",
      "-1.9132229549810367\n",
      "[-0.54719755 -1.54719755]\n"
     ]
    }
   ],
   "source": [
    "print(gd_optimize(np.array([-0.2, - 1.0])))"
   ]
  },
  {
   "cell_type": "code",
   "execution_count": 7,
   "metadata": {},
   "outputs": [
    {
     "name": "stdout",
     "output_type": "stream",
     "text": [
      "-1.909297426825682\n",
      "-1.9109295805761808\n",
      "-1.9114681674883558\n",
      "-1.9110297007042236\n",
      "-1.9132215281704674\n",
      "-1.9132229214706045\n",
      "-1.913222952576786\n",
      "-1.9132229546063524\n",
      "-1.9132229548741106\n",
      "-1.9132229549304762\n",
      "-1.9132229549439543\n",
      "-1.9132229549407707\n",
      "-1.9132229549810185\n",
      "-1.9132229549810362\n",
      "-1.9132229549810367\n",
      "-1.9132229549810367\n",
      "[-0.54719755 -1.54719755]\n"
     ]
    }
   ],
   "source": [
    "print(gd_optimize(np.array([-0.5, -1.5])))"
   ]
  },
  {
   "cell_type": "code",
   "execution_count": 8,
   "metadata": {},
   "outputs": [
    {
     "name": "stdout",
     "output_type": "stream",
     "text": [
      "-1.4920390859672263\n",
      "-1.9128135207487107\n",
      "-1.9132229186591214\n",
      "-1.9132229549810362\n",
      "-1.9132229549810367\n",
      "-1.9132229549810367\n",
      "[-0.54719755 -1.54719755]\n"
     ]
    }
   ],
   "source": [
    "print(nm_optimize(np.array([-0.2, -1.0])))"
   ]
  },
  {
   "cell_type": "code",
   "execution_count": 9,
   "metadata": {},
   "outputs": [
    {
     "name": "stdout",
     "output_type": "stream",
     "text": [
      "-1.909297426825682\n",
      "-1.9132209008539096\n",
      "-1.9132229549802315\n",
      "-1.9132229549810362\n",
      "-1.9132229549810367\n",
      "-1.9132229549810367\n",
      "[-0.54719755 -1.54719755]\n"
     ]
    }
   ],
   "source": [
    "print(nm_optimize(np.array([-0.5, -1.5])))"
   ]
  }
 ],
 "metadata": {
  "kernelspec": {
   "display_name": "Python 3",
   "language": "python",
   "name": "python3"
  },
  "language_info": {
   "codemirror_mode": {
    "name": "ipython",
    "version": 3
   },
   "file_extension": ".py",
   "mimetype": "text/x-python",
   "name": "python",
   "nbconvert_exporter": "python",
   "pygments_lexer": "ipython3",
   "version": "3.6.5"
  }
 },
 "nbformat": 4,
 "nbformat_minor": 2
}
