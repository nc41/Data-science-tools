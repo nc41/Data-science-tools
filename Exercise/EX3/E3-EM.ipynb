{
 "cells": [
  {
   "cell_type": "markdown",
   "metadata": {},
   "source": [
    "In this assignment, you are asked to actually implement the EM algorithm derived in class. Your implementation will be using Python. Recall that the basic setup was that we imagine that there are two coins in a bag. Repeatedly, we pick one out and flip it 10 times, then put it back in. We derived an algorithm to look at all of the sequences of 10 flips, and figure out the probability that each coin comes up heads. \n",
    "\n"
   ]
  },
  {
   "cell_type": "markdown",
   "metadata": {},
   "source": [
    "One thing that might help you is \n",
    "\n",
    "    scipy.stats.binom.pmf (numHeads, numTrials, probOfHeads)\n",
    "\n",
    "This function allows you to compute the binomial probability of seeing the specified number of heads in the specified number of trials. \n"
   ]
  },
  {
   "cell_type": "markdown",
   "metadata": {},
   "source": [
    "Grading: \n",
    "\n",
    "Point allocation:\n",
    "* 0-20 Points for myEM function implementation\n",
    "* 15 Points for successfully running Task 1\n",
    "* 15 points for successfully running Task 2\n"
   ]
  },
  {
   "cell_type": "markdown",
   "metadata": {},
   "source": [
    "Start with the following code:"
   ]
  },
  {
   "cell_type": "code",
   "execution_count": 115,
   "metadata": {},
   "outputs": [],
   "source": [
    "import numpy as np\n",
    "import scipy.stats\n",
    "\n",
    "# one coin has a probability of coming up heads of 0.2, the other 0.6\n",
    "# this is the truth we will use to generate the sequences of coin flips\n",
    "coinProbs = np.zeros (2)\n",
    "coinProbs[0] = 0.2\n",
    "coinProbs[1] = 0.6\n",
    "\n",
    "# reach in and pull out a coin numTimes times\n",
    "numTimes = 100\n",
    "\n",
    "# flip it numFlips times when you do\n",
    "numFlips = 10\n",
    "\n",
    "# flips will have the number of heads we observed in 10 flips for each coin\n",
    "flips = np.zeros (numTimes)\n",
    "for coin in range(numTimes):\n",
    "        which = np.random.binomial (1, 0.5, 1);\n",
    "        flips[coin] = np.random.binomial (numFlips, coinProbs[which], 1);\n",
    "\n",
    "# initialize the EM algorithm\n",
    "coinProbs[0] = 0.79\n",
    "coinProbs[1] = 0.51\n"
   ]
  },
  {
   "cell_type": "markdown",
   "metadata": {},
   "source": [
    "Using this code as a start, write some Python code that runs 20 iterations of the EM algorithm that we derived. At the end of each iteration, print out the current probabilities of the two coins. "
   ]
  },
  {
   "cell_type": "code",
   "execution_count": 116,
   "metadata": {},
   "outputs": [],
   "source": [
    "# define the EM algorithm\n",
    "def myEM():\n",
    "    counts = np.zeros(2) \n",
    "    for iters in range (20):\n",
    "        # E step\n",
    "        coin1_pro = scipy.stats.binom.pmf(flips, numFlips, coinProbs[0])\n",
    "        coin2_pro = scipy.stats.binom.pmf(flips, numFlips, coinProbs[1])\n",
    "        \n",
    "        con_coin1 = coin1_pro / (coin1_pro + coin2_pro)\n",
    "        con_coin2 = coin2_pro / (coin1_pro + coin2_pro)\n",
    "        \n",
    "        # computer the expectation\n",
    "        expCoin1 = np.sum(con_coin1*flips)\n",
    "        expCoin2 = np.sum(con_coin2*flips)\n",
    "        \n",
    "        # M step upadte the probability\n",
    "        coinProbs[0] = expCoin1 / np.sum(con_coin1*numFlips)\n",
    "        coinProbs[1] = expCoin2 / np.sum(con_coin2*numFlips)\n",
    "        \n",
    "        print(coinProbs)\n",
    "        \n",
    "    "
   ]
  },
  {
   "cell_type": "markdown",
   "metadata": {},
   "source": [
    "Now run the function"
   ]
  },
  {
   "cell_type": "code",
   "execution_count": 117,
   "metadata": {},
   "outputs": [
    {
     "name": "stdout",
     "output_type": "stream",
     "text": [
      "[0.70463711 0.32811874]\n",
      "[0.66168586 0.26529094]\n",
      "[0.63735157 0.24129975]\n",
      "[0.62410692 0.23112587]\n",
      "[0.61720151 0.22638125]\n",
      "[0.6136695  0.22405982]\n",
      "[0.61187543 0.22290087]\n",
      "[0.61096622 0.22231755]\n",
      "[0.61050577 0.22202296]\n",
      "[0.61027263 0.22187398]\n",
      "[0.61015458 0.22179859]\n",
      "[0.61009482 0.22176042]\n",
      "[0.61006456 0.2217411 ]\n",
      "[0.61004923 0.22173132]\n",
      "[0.61004148 0.22172637]\n",
      "[0.61003755 0.22172386]\n",
      "[0.61003556 0.22172259]\n",
      "[0.61003455 0.22172195]\n",
      "[0.61003404 0.22172162]\n",
      "[0.61003378 0.22172146]\n"
     ]
    }
   ],
   "source": [
    "myEM()"
   ]
  },
  {
   "cell_type": "markdown",
   "metadata": {},
   "source": [
    "My results are below. Note that your results might be different, since the data are randomly generated.\n",
    "    \n",
    "    [0.6913887786871945, 0.3205189463068871]\n",
    "    [0.6349440972384687, 0.2573384274377747]\n",
    "    [0.6044228758697338, 0.22727544075146722]\n",
    "    [0.5887711493028852, 0.21171140477915998]\n",
    "    [0.5808172323753603, 0.20354444512168343]\n",
    "    [0.5767500765491345, 0.1992741649770466]\n",
    "    [0.5746569298008388, 0.19705084180978027]\n",
    "    [0.5735756856294365, 0.19589616580905417]\n",
    "    [0.5730161693988925, 0.1952972264380479]\n",
    "    [0.5727264119901841, 0.1949867278135566]\n",
    "    [0.5725763063104846, 0.19482580210801304]\n",
    "    [0.5724985350227417, 0.19474240699153128]\n",
    "    [0.5724582385320893, 0.1946991922060499]\n",
    "    [0.5724373587164968, 0.19467679917115008]\n",
    "    [0.5724265396099921, 0.19466519569444465]\n",
    "    [0.5724209335381654, 0.19465918311774882]\n",
    "    [0.5724180286651543, 0.19465606758891035]\n",
    "    [0.572416523458053, 0.19465445322203573]\n",
    "    [0.5724157435100066, 0.1946536167097004]\n",
    "    [0.5724153393668321, 0.19465318325643205]\n"
   ]
  },
  {
   "cell_type": "markdown",
   "metadata": {},
   "source": [
    "This time, reduce numFlips to 2.\n",
    "\n",
    "Reset the initial estimates for the probabilities."
   ]
  },
  {
   "cell_type": "code",
   "execution_count": 123,
   "metadata": {},
   "outputs": [],
   "source": [
    "numFlips = 2\n",
    "coinProbs[0] = 0.2\n",
    "coinProbs[1] = 0.6"
   ]
  },
  {
   "cell_type": "markdown",
   "metadata": {},
   "source": [
    "Regenerate the data and reinitialize the starting probabilities"
   ]
  },
  {
   "cell_type": "code",
   "execution_count": 124,
   "metadata": {},
   "outputs": [],
   "source": [
    "# flips will have the number of heads we observed in 10 flips for each coin\n",
    "flips = np.zeros (numTimes)\n",
    "for coin in range(numTimes):\n",
    "        which = np.random.binomial (1, 0.5, 1);\n",
    "        flips[coin] = np.random.binomial (numFlips, coinProbs[which], 1);\n",
    "\n",
    "# initialize the EM algorithm\n",
    "coinProbs[0] = 0.79\n",
    "coinProbs[1] = 0.51"
   ]
  },
  {
   "cell_type": "markdown",
   "metadata": {},
   "source": [
    "and rerun the EM algorithm"
   ]
  },
  {
   "cell_type": "code",
   "execution_count": 125,
   "metadata": {},
   "outputs": [
    {
     "name": "stdout",
     "output_type": "stream",
     "text": [
      "[0.60587723 0.30312993]\n",
      "[0.56769961 0.27518381]\n",
      "[0.55980271 0.27217957]\n",
      "[0.55730513 0.27294982]\n",
      "[0.55587088 0.27412482]\n",
      "[0.55476459 0.27519928]\n",
      "[0.55384322 0.27612204]\n",
      "[0.55306242 0.27690799]\n",
      "[0.55239728 0.27757789]\n",
      "[0.55182913 0.27815   ]\n",
      "[0.55134286 0.27863954]\n",
      "[0.55092598 0.27905912]\n",
      "[0.55056809 0.27941925]\n",
      "[0.55026047 0.27972875]\n",
      "[0.54999579 0.27999501]\n",
      "[0.54976785 0.28022428]\n",
      "[0.54957141 0.28042185]\n",
      "[0.549402   0.28059222]\n",
      "[0.54925582 0.28073921]\n",
      "[0.54912962 0.2808661 ]\n"
     ]
    }
   ],
   "source": [
    "myEM()"
   ]
  },
  {
   "cell_type": "markdown",
   "metadata": {},
   "source": [
    "My results from the second run are:\n",
    "\n",
    "    [0.57170075073339, 0.24386416623514545]\n",
    "    [0.5343869486316972, 0.19806150349976756]\n",
    "    [0.534088640515714, 0.18205211266965377]\n",
    "    [0.539898119875198, 0.1726941015450789]\n",
    "    [0.5457572835473563, 0.16592423331454195]\n",
    "    [0.5505645667426521, 0.160770869382013]\n",
    "    [0.554271213920473, 0.15683662462603218]\n",
    "    [0.5570534369577226, 0.15385618787812252]\n",
    "    [0.5591128976731792, 0.151617730583195]\n",
    "    [0.5606255624759454, 0.14994883671785908]\n",
    "    [0.5617317646002122, 0.1487117602279271]\n",
    "    [0.5625387932685745, 0.14779881984552143]\n",
    "    [0.563126836563891, 0.14712733303164222]\n",
    "    [0.5635550717541402, 0.14663467479903525]\n",
    "    [0.563866863281927, 0.14627389344325]\n",
    "    [0.5640938678280079, 0.14601005302192102]\n",
    "    [0.564259151161806, 0.14581730319970954]\n",
    "    [0.5643795051676515, 0.1456765952081389]\n",
    "    [0.5644671507716209, 0.14557393495341814]\n",
    "    [0.5645309820954078, 0.14549906478102514]"
   ]
  },
  {
   "cell_type": "markdown",
   "metadata": {},
   "source": [
    "Remarkably, the EM algorithm does a pretty job, even with just two flips of each coin!!\n",
    "\n",
    "\n",
    "Turn in your code (& results) in a Jupyter Notebook."
   ]
  }
 ],
 "metadata": {
  "kernelspec": {
   "display_name": "Python 3",
   "language": "python",
   "name": "python3"
  },
  "language_info": {
   "codemirror_mode": {
    "name": "ipython",
    "version": 3
   },
   "file_extension": ".py",
   "mimetype": "text/x-python",
   "name": "python",
   "nbconvert_exporter": "python",
   "pygments_lexer": "ipython3",
   "version": "3.6.5"
  }
 },
 "nbformat": 4,
 "nbformat_minor": 2
}
