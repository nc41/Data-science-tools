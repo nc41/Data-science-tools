{
 "cells": [
  {
   "cell_type": "markdown",
   "metadata": {},
   "source": [
    "# Outlier Detection\n",
    "\n",
    "For this homework, you will be implementing the outlier detection algorithm from class."
   ]
  },
  {
   "cell_type": "markdown",
   "metadata": {},
   "source": [
    "There are two subtasks. Each is worth 25 points: 15 points for the code. 10 points for getting the correct answer. Partial credit may be given and deductions may be taken.\n",
    "\n",
    "\n",
    "## Task 1\n",
    "\n",
    "\n",
    "For this task, you will be asked to implement (in Python) the nested loops algorithm on slide 27 of the \"outliers\" lecture. Start with the code below, and fill in the appropriate missing code. To implement the priority queue, use Python's heapq. The distance between data points will be implemented using Euclidean distance (the l2-norm).\n"
   ]
  },
  {
   "cell_type": "markdown",
   "metadata": {},
   "source": [
    "My output is:\n",
    "```\n",
    "--- 55.808152198791504 seconds ---\n",
    "(20.401885959821104, 3002)\n",
    "(21.573458366185555, 3001)\n",
    "(23.81891978393018, 3005)\n",
    "(25.3452201490205, 3004)\n",
    "(23.860280263207713, 3003)\n",
    "\n",
    "```"
   ]
  },
  {
   "cell_type": "markdown",
   "metadata": {},
   "source": [
    "Note that since the data are randomly created, you may get a slightly different result, although data points 3001 thru 3004 should always be the outliers. Since 55 seconds is a non-trival amount of time to wait, when you are debugging, you should consider reducing the data set size from 3000 to a smaller value, such as 100. Here is the skeleton to start with:\n",
    "\n"
   ]
  },
  {
   "cell_type": "code",
   "execution_count": 25,
   "metadata": {},
   "outputs": [
    {
     "name": "stdout",
     "output_type": "stream",
     "text": [
      "--- 63.30155920982361 seconds ---\n",
      "(20.31684850212159, 3001)\n",
      "(21.499931242948378, 3002)\n",
      "(25.404498372012462, 3005)\n",
      "(24.262796393911643, 3003)\n",
      "(25.364716015500573, 3004)\n"
     ]
    }
   ],
   "source": [
    "import heapq as hq\n",
    "import numpy as np\n",
    "import time\n",
    "# from scipy.spatial import distance\n",
    "\n",
    "#create the covariance matrix\n",
    "covar = np.zeros ((100,100))\n",
    "np.fill_diagonal (covar, 1)\n",
    "\n",
    "#and the mean vector\n",
    "mean = np.zeros (100)\n",
    "\n",
    "#create 3000 data points\n",
    "all_data = np.random.multivariate_normal (mean, covar, 3000)\n",
    "\n",
    "#now create the 20 outliers\n",
    "for i in range (1, 20):\n",
    "  mean.fill (i)\n",
    "  outlier_data = np.random.multivariate_normal (mean, covar, i)\n",
    "  all_data = np.concatenate ((all_data, outlier_data))\n",
    "\n",
    "#k for kNN detection\n",
    "k = 10\n",
    "\n",
    "#the number of outliers to return\n",
    "m = 5\n",
    "\n",
    "#start the timer\n",
    "start_time = time.time()\n",
    "\n",
    "#the priority queue of outliers\n",
    "outliers = []\n",
    "\n",
    "#YOUR CODE HERE!\n",
    "\n",
    "for i in range(len(all_data)):\n",
    "    max_heap = []\n",
    "    for j in range(len(all_data)):\n",
    "        if i == j:\n",
    "            continue\n",
    "            \n",
    "#         dist = distance.euclidean(all_data[i], all_data[j])    \n",
    "#         dist = np.sqrt(np.sum(np.power(all_data[i] - all_data[j], 2)))\n",
    "        dist = np.linalg.norm(all_data[i] - all_data[j])\n",
    "        hq.heappush(max_heap, -dist)\n",
    "        \n",
    "        if len(max_heap) > k:\n",
    "            hq.heappop(max_heap)\n",
    "            \n",
    "    tmp = hq.heappop(max_heap)\n",
    "    hq.heappush(outliers, (-tmp, i))\n",
    "    \n",
    "    if len(outliers) > m:\n",
    "        hq.heappop(outliers)\n",
    "\n",
    "\n",
    "print(\"--- %s seconds ---\" % (time.time() - start_time))\n",
    "\n",
    "#print the outliers... \n",
    "for outlier in outliers:\n",
    "  print (outlier)  "
   ]
  },
  {
   "cell_type": "markdown",
   "metadata": {},
   "source": [
    "Note the spot above where you should add your code. "
   ]
  },
  {
   "cell_type": "markdown",
   "metadata": {},
   "source": [
    "## Task 2\n",
    "\n",
    "In this task, you should implement the faster algorithm on slide 30. \n",
    "\n",
    "Note that to randomly shuffle the data you should use \n"
   ]
  },
  {
   "cell_type": "code",
   "execution_count": 26,
   "metadata": {},
   "outputs": [],
   "source": [
    "np.random.shuffle (all_data)\n"
   ]
  },
  {
   "cell_type": "code",
   "execution_count": 27,
   "metadata": {},
   "outputs": [
    {
     "name": "stdout",
     "output_type": "stream",
     "text": [
      "--- 2.8013627529144287 seconds ---\n",
      "(20.31684850212159, 545)\n",
      "(24.262796393911643, 1377)\n",
      "(21.499931242948378, 2600)\n",
      "(25.404498372012462, 1130)\n",
      "(25.364716015500573, 2915)\n"
     ]
    }
   ],
   "source": [
    "# your code here\n",
    "# be sure to including the timing\n",
    "\n",
    "#start the timer\n",
    "start_time = time.time()\n",
    "\n",
    "#the priority queue of outliers\n",
    "outliers = []\n",
    "\n",
    "#YOUR CODE HERE!\n",
    "\n",
    "for i in range(len(all_data)):\n",
    "    max_heap = []\n",
    "    for j in range(len(all_data)):\n",
    "        if i == j:\n",
    "            continue\n",
    "            \n",
    "#         dist = distance.euclidean(all_data[i], all_data[j])\n",
    "#         dist = np.sqrt(np.sum(np.power(all_data[i] - all_data[j], 2)))\n",
    "        dist = np.linalg.norm(all_data[i] - all_data[j])\n",
    "        hq.heappush(max_heap, -dist)\n",
    "        \n",
    "        \n",
    "        if len(max_heap) > k:\n",
    "            hq.heappop(max_heap)\n",
    "            \n",
    "        if len(max_heap) == k and len(outliers) == m and -min(max_heap) < min(outliers)[0]:\n",
    "            break\n",
    "            \n",
    "    tmp = hq.heappop(max_heap)\n",
    "    hq.heappush(outliers, (-tmp, i))\n",
    "    \n",
    "    if len(outliers) > m:\n",
    "        hq.heappop(outliers)\n",
    "\n",
    "\n",
    "print(\"--- %s seconds ---\" % (time.time() - start_time))\n",
    "\n",
    "#print the outliers... \n",
    "for outlier in outliers:\n",
    "  print (outlier)"
   ]
  },
  {
   "cell_type": "markdown",
   "metadata": {},
   "source": [
    "Here is my output:\n",
    "```\n",
    "--- 2.0767040252685547 seconds ---\n",
    "(20.401885959821104, 343)\n",
    "(23.818919783930184, 1455)\n",
    "(21.573458366185555, 1902)\n",
    "(23.860280263207713, 2668)\n",
    "(25.345220149020495, 393)\n",
    "```"
   ]
  },
  {
   "cell_type": "markdown",
   "metadata": {},
   "source": [
    "Note that since you've shuffled the data, the indices of the outliers will change, but the distances should be the same.\n",
    "\n",
    "\n",
    "Upload a jupyter notebook with your solution to Canvas.\n"
   ]
  }
 ],
 "metadata": {
  "kernelspec": {
   "display_name": "Python 3",
   "language": "python",
   "name": "python3"
  },
  "language_info": {
   "codemirror_mode": {
    "name": "ipython",
    "version": 3
   },
   "file_extension": ".py",
   "mimetype": "text/x-python",
   "name": "python",
   "nbconvert_exporter": "python",
   "pygments_lexer": "ipython3",
   "version": "3.6.5"
  }
 },
 "nbformat": 4,
 "nbformat_minor": 2
}
