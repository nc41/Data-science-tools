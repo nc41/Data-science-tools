{
 "cells": [
  {
   "cell_type": "markdown",
   "metadata": {},
   "source": [
    "# COMP 543\n",
    "## Exercise 1\n",
    "\n",
    "In this assignment, you will write Relational Algebra and Relational Calculus expressions that answer the following questions.\n",
    "\n",
    "Consider the following set of relations, which describe coffee and coffee drinkers:\n"
   ]
  },
  {
   "cell_type": "markdown",
   "metadata": {},
   "source": [
    "```python\n",
    "DRINKS (PERSON, COFFEE)\n",
    "HAS_BEAN (COFFEE, BEAN_NAME)\t\n",
    "BEAN (BEAN_NAME, FROM_LOCATION)\n",
    "```"
   ]
  },
  {
   "cell_type": "markdown",
   "metadata": {},
   "source": [
    "The relation ```DRINKS``` tells us which people drink which coffees. \n",
    "\n",
    "The ```HAS_BEAN``` relation tells us what coffee beans go into each type of coffee. \n",
    "\n",
    "The ```BEAN``` relation tells us which location each coffee bean comes from.\n",
    "\n",
    "\n",
    "### Grading\n",
    "Each question is worth 10 points, except for 1(a), which is worth 5 points.\n",
    "\n",
    "Your answers should use either symbols ($\\pi$, $\\sigma$, $\\exists$, etc.) or the corresponding words (project, select, exists, etc.)\n",
    "\n",
    "### Part 1 - Relational Algebra\n",
    "Write RA expressions to compute each of the following. Note that you can abbreviate attribute names if you’d like to write less (i.e.. you can use P for PERSON, C for COFFEE, BN for BEAN_NAME, and FL for FROM_LOCATION). \n"
   ]
  },
  {
   "cell_type": "markdown",
   "metadata": {},
   "source": [
    "1a. Which beans are in the coffee named “Blend 101”?\n",
    "\n",
    "\n"
   ]
  },
  {
   "cell_type": "markdown",
   "metadata": {
    "collapsed": true
   },
   "source": [
    "    PROJECT(BN)(SELECT(C = \"Blend 101\")(HAS_BEAN))\n",
    "\n"
   ]
  },
  {
   "cell_type": "markdown",
   "metadata": {},
   "source": [
    "1b. Which people drink a coffee that contains the “Pacas” coffee bean?\n"
   ]
  },
  {
   "cell_type": "markdown",
   "metadata": {
    "collapsed": true
   },
   "source": [
    "    PROJECT(P)(SELECT(BN = \"Pacas\")(DRINKS*HAS_BEAN))\n",
    "\n"
   ]
  },
  {
   "cell_type": "markdown",
   "metadata": {},
   "source": [
    "1c. Who does not drink a coffee containing a bean from the location “Rwanda”?"
   ]
  },
  {
   "cell_type": "markdown",
   "metadata": {
    "collapsed": true
   },
   "source": [
    "    C_Contained <- Project(P)(SELECT(FL = \"Rwanda\")(DRINKS * HAS_BEAN * BEAN))\n",
    "    \n",
    "    ANS <- Project(P)(DRINKS) - C_Contained"
   ]
  },
  {
   "cell_type": "markdown",
   "metadata": {},
   "source": [
    "### Part 2 - Consider the same set of relations. \n",
    "\n",
    "Write Relational Calculus expressions to compute each of the following. Again, you may abbreviate attribute names. Each question is worth 10 points, except for 2a, which is worth 5 points."
   ]
  },
  {
   "cell_type": "markdown",
   "metadata": {
    "collapsed": true
   },
   "source": [
    "2a. Which locations contribute a bean to the coffee named “Garuda blend”?"
   ]
  },
  {
   "cell_type": "markdown",
   "metadata": {
    "collapsed": true
   },
   "source": [
    "    {b.FL | BEAN(b) and b.C = \"Garuda blend\"}"
   ]
  },
  {
   "cell_type": "markdown",
   "metadata": {},
   "source": [
    "2b. Who has never tried a coffee containing a bean from the location “Hawaii”?"
   ]
  },
  {
   "cell_type": "markdown",
   "metadata": {
    "collapsed": true
   },
   "source": [
    "    {d.P | DRINKS(d) and NOT EXISTS(d2, hb, b)(Drinks(d2) and HAS_BEAN(hb) and BEAN(b) and d2.C = hb.C and hb.BN = b.BN and b.FL = \"Hawaii\" and d2.P = d.P)}"
   ]
  },
  {
   "cell_type": "markdown",
   "metadata": {},
   "source": [
    "2c. Which people drink all of the coffees containing the bean “Caturra”?"
   ]
  },
  {
   "cell_type": "markdown",
   "metadata": {
    "collapsed": true
   },
   "source": [
    "    {d.p | DRINKS(d) and FORALL(hb)(HAS_BEAN(hb) and hb.BN = \"Caturra\" and hb.C = d.C)}"
   ]
  }
 ],
 "metadata": {
  "kernelspec": {
   "display_name": "Python 3",
   "language": "python",
   "name": "python3"
  },
  "language_info": {
   "codemirror_mode": {
    "name": "ipython",
    "version": 3
   },
   "file_extension": ".py",
   "mimetype": "text/x-python",
   "name": "python",
   "nbconvert_exporter": "python",
   "pygments_lexer": "ipython3",
   "version": "3.6.5"
  }
 },
 "nbformat": 4,
 "nbformat_minor": 2
}
